{
 "cells": [
  {
   "cell_type": "code",
   "execution_count": null,
   "metadata": {},
   "outputs": [],
   "source": [
    "# Generic libraries\n",
    "import pickle\n",
    "from loguru import logger\n",
    "from typing import List\n",
    "\n",
    "# Preprocessing\n",
    "import pandas as pd\n",
    "from feature_engine.encoding import MeanEncoder\n",
    "\n",
    "# Monitor test suites\n",
    "from evidently.test_suite import TestSuite\n",
    "from evidently.tests import (\n",
    "    # Quality\n",
    "    TestHighlyCorrelatedColumns,\n",
    "    # Intergrity\n",
    "    TestNumberOfRows,\n",
    "    TestColumnNumberOfMissingValues,\n",
    "    TestNumberOfOutRangeValues,\n",
    "    # Drift\n",
    "    TestColumnDrift,\n",
    "    TestNumberOfDriftedColumns,\n",
    ")\n",
    "\n",
    "# Filter warnings\n",
    "import warnings\n",
    "warnings.filterwarnings(\"ignore\")"
   ]
  },
  {
   "cell_type": "code",
   "execution_count": null,
   "metadata": {},
   "outputs": [],
   "source": [
    "# Functions needed to execute notebook\n",
    "def dump_pickle(obj, filename: str):\n",
    "    with open(filename, \"wb\") as f_out:\n",
    "        return pickle.dump(obj, f_out)\n",
    "\n",
    "\n",
    "def load_pickle(filename):\n",
    "    with open(filename, \"rb\") as f_in:\n",
    "        return pickle.load(f_in)\n",
    "\n",
    "\n",
    "def read_parquet_file(path: str) -> pd.DataFrame:\n",
    "    logger.info(f\"Reading parquet file from path: {path}\")\n",
    "    return pd.read_parquet(path, engine=\"pyarrow\")\n",
    "\n",
    "\n",
    "def drop_columns(df: pd.DataFrame, columns: List[str]) -> pd.DataFrame:\n",
    "    return df.drop(columns, axis=1)\n",
    "\n",
    "\n",
    "def encode_categorical_variables(\n",
    "    df: pd.DataFrame,\n",
    "    cat_variables: list[str],\n",
    "    target: str = \"price\",\n",
    "    fit: bool = \"True\",\n",
    "    path: str = \"transformers/mean_encoder.pkl\",\n",
    "\n",
    ") -> pd.DataFrame:\n",
    "    \"\"\"Encode categorical features using mean encoder.\n",
    "\n",
    "    Args:\n",
    "        df (pd.DataFrame): The raw dataframe\n",
    "        cat_variables (list[str]): Categorical variables to encode\n",
    "        target (str, optional): The name of the response variable. Defaults to \"price\".\n",
    "\n",
    "    Returns:\n",
    "        pd.DataFrame: Encoded dataframe.\n",
    "    \"\"\"\n",
    "    logger.info(\"Fitting mean encoder transforming categorical variables\")\n",
    "    encoder_path = \"transformers/mean_encoder.pkl\"\n",
    "\n",
    "    if fit:\n",
    "        encoder = MeanEncoder(variables=cat_variables)\n",
    "        encoder.fit(df.drop(target, axis=1), df[target])\n",
    "        encoded_df = encoder.transform(df.drop(target, axis=1))\n",
    "\n",
    "        # Save the encoder to a pre-specified path\n",
    "        logger.info(f\"Saving encoder to path: {encoder_path}\")\n",
    "        dump_pickle(encoder, encoder_path)\n",
    "    else:\n",
    "        encoder = load_pickle(encoder_path)\n",
    "        encoded_df = encoder.transform(df.drop(target, axis=1))\n",
    "\n",
    "    return pd.concat([encoded_df, df[target]], axis=1)"
   ]
  },
  {
   "cell_type": "markdown",
   "metadata": {},
   "source": [
    "# 0. Settings "
   ]
  },
  {
   "cell_type": "code",
   "execution_count": null,
   "metadata": {},
   "outputs": [],
   "source": [
    "# Paths for reference and current datasets\n",
    "reference_data_path = \"data/raw/vehicles_2023-04.parquet\"\n",
    "current_data_path = \"data/raw/vehicles_2023-05.parquet\""
   ]
  },
  {
   "cell_type": "markdown",
   "metadata": {},
   "source": [
    "# 1. Preprocessing"
   ]
  },
  {
   "cell_type": "code",
   "execution_count": null,
   "metadata": {},
   "outputs": [],
   "source": [
    "reference_df = read_parquet_file(reference_data_path)\n",
    "current_df = read_parquet_file(current_data_path)\n",
    "\n",
    "display(reference_df.head())\n",
    "display(current_df.head())"
   ]
  },
  {
   "cell_type": "code",
   "execution_count": null,
   "metadata": {},
   "outputs": [],
   "source": [
    "drop_cols = [\"posting_date\"]\n",
    "\n",
    "reference_df = drop_columns(reference_df, drop_cols)\n",
    "current_df = drop_columns(current_df, drop_cols)\n",
    "\n",
    "display(reference_df.head())\n",
    "display(current_df.head())"
   ]
  },
  {
   "cell_type": "code",
   "execution_count": null,
   "metadata": {},
   "outputs": [],
   "source": [
    "cat_variables = [\n",
    "    \"manufacturer\",\n",
    "    \"fuel\",\n",
    "    \"title_status\",\n",
    "    \"transmission\",\n",
    "    \"type\",\n",
    "    \"paint_color\",\n",
    "]\n",
    "\n",
    "reference_df = encode_categorical_variables(reference_df, cat_variables, fit=True)\n",
    "current_df = encode_categorical_variables(current_df, cat_variables, fit=False)\n",
    "\n",
    "display(reference_df.head())\n",
    "display(current_df.head())\n"
   ]
  },
  {
   "cell_type": "markdown",
   "metadata": {},
   "source": [
    "# 2. Test Suites"
   ]
  },
  {
   "cell_type": "code",
   "execution_count": null,
   "metadata": {},
   "outputs": [],
   "source": []
  },
  {
   "cell_type": "code",
   "execution_count": null,
   "metadata": {},
   "outputs": [],
   "source": [
    "custom_test_suite = TestSuite(tests=[\n",
    "    TestHighlyCorrelatedColumns(),\n",
    "    TestNumberOfRows(),\n",
    "    TestColumnNumberOfMissingValues(column_name=\"paint_color\"),\n",
    "    TestNumberOfOutRangeValues(column_name=\"transmission\"),\n",
    "    TestColumnDrift(column_name='odometer', stattest='psi', stattest_threshold=0.3),\n",
    "    TestNumberOfDriftedColumns(),\n",
    "])\n",
    "custom_test_suite.run(reference_data=reference_df, current_data=current_df)\n",
    "custom_test_suite.show(mode='inline')"
   ]
  },
  {
   "cell_type": "code",
   "execution_count": null,
   "metadata": {},
   "outputs": [],
   "source": [
    "# Complete view of summary\n",
    "custom_test_suite.as_dict()[\"summary\"]"
   ]
  },
  {
   "cell_type": "code",
   "execution_count": null,
   "metadata": {},
   "outputs": [],
   "source": [
    "# Get number of passed tests\n",
    "number_of_passed = custom_test_suite.as_dict()[\"summary\"][\"success_tests\"]\n",
    "print(f\"The number of passed tests is: {number_of_passed}.\")"
   ]
  },
  {
   "cell_type": "code",
   "execution_count": null,
   "metadata": {},
   "outputs": [],
   "source": [
    "# Get number of failed tests\n",
    "number_of_failed = custom_test_suite.as_dict()[\"summary\"][\"failed_tests\"]\n",
    "print(f\"The number of failed tests is: {number_of_failed}.\")\n"
   ]
  },
  {
   "cell_type": "code",
   "execution_count": null,
   "metadata": {},
   "outputs": [],
   "source": []
  }
 ],
 "metadata": {
  "kernelspec": {
   "display_name": "venv",
   "language": "python",
   "name": "python3"
  },
  "language_info": {
   "codemirror_mode": {
    "name": "ipython",
    "version": 3
   },
   "file_extension": ".py",
   "mimetype": "text/x-python",
   "name": "python",
   "nbconvert_exporter": "python",
   "pygments_lexer": "ipython3",
   "version": "3.11.4"
  }
 },
 "nbformat": 4,
 "nbformat_minor": 2
}
